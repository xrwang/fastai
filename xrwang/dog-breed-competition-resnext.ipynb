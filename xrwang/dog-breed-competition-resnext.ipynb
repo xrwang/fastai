{
 "cells": [
  {
   "cell_type": "code",
   "execution_count": 1,
   "metadata": {},
   "outputs": [],
   "source": [
    "# Put these at the top of every notebook, to get automatic reloading and inline plotting\n",
    "%reload_ext autoreload\n",
    "%autoreload 2\n",
    "%matplotlib inline"
   ]
  },
  {
   "cell_type": "code",
   "execution_count": 2,
   "metadata": {},
   "outputs": [],
   "source": [
    "# This file contains all the main external libs we'll use\n",
    "from fastai.imports import *"
   ]
  },
  {
   "cell_type": "code",
   "execution_count": 3,
   "metadata": {},
   "outputs": [],
   "source": [
    "from fastai.transforms import *\n",
    "from fastai.conv_learner import *\n",
    "from fastai.model import *\n",
    "from fastai.dataset import *\n",
    "from fastai.sgdr import *\n",
    "from fastai.plots import *"
   ]
  },
  {
   "cell_type": "code",
   "execution_count": 4,
   "metadata": {},
   "outputs": [],
   "source": [
    "PATH = \"data/dogbreed/\"\n",
    "sz=244\n",
    "arch=resnext50\n",
    "bs=24"
   ]
  },
  {
   "cell_type": "code",
   "execution_count": 5,
   "metadata": {},
   "outputs": [
    {
     "name": "stdout",
     "output_type": "stream",
     "text": [
      "[3694 1573 6281 ..., 5734 5191 5390]\n",
      "10222\n"
     ]
    }
   ],
   "source": [
    "label_csv = f'{PATH}labels.csv'\n",
    "n = len(list(open(label_csv)))-1\n",
    "val_idxs = get_cv_idxs(n)\n",
    "# this creates the validation dataset\n",
    "print(val_idxs)\n",
    "print(n)"
   ]
  },
  {
   "cell_type": "code",
   "execution_count": 6,
   "metadata": {},
   "outputs": [],
   "source": [
    "label_df = pd.read_csv(label_csv)"
   ]
  },
  {
   "cell_type": "code",
   "execution_count": 7,
   "metadata": {},
   "outputs": [],
   "source": [
    "#label_df.head()"
   ]
  },
  {
   "cell_type": "code",
   "execution_count": 8,
   "metadata": {},
   "outputs": [],
   "source": [
    "#label_df.pivot_table(index=\"breed\", aggfunc=len).sort_values('id', ascending=True)\n"
   ]
  },
  {
   "cell_type": "code",
   "execution_count": 9,
   "metadata": {},
   "outputs": [],
   "source": [
    "tfms = tfms_from_model(arch, sz, aug_tfms=transforms_side_on, max_zoom=1.1)\n",
    "data = ImageClassifierData.from_csv(PATH, 'train' ,f'{PATH}labels.csv', test_name='test', val_idxs=val_idxs, suffix='.jpg', tfms=tfms, bs=bs)"
   ]
  },
  {
   "cell_type": "code",
   "execution_count": 10,
   "metadata": {},
   "outputs": [],
   "source": [
    "learn = ConvLearner.pretrained(arch,data)\n"
   ]
  },
  {
   "cell_type": "code",
   "execution_count": 11,
   "metadata": {},
   "outputs": [
    {
     "data": {
      "application/vnd.jupyter.widget-view+json": {
       "model_id": "24fd622aa84b4059a8504e3a3d08e279",
       "version_major": 2,
       "version_minor": 0
      },
      "text/plain": [
       "A Jupyter Widget"
      ]
     },
     "metadata": {},
     "output_type": "display_data"
    },
    {
     "name": "stdout",
     "output_type": "stream",
     "text": [
      " 84%|████████▎ | 285/341 [01:44<00:20,  2.73it/s, loss=9.29]"
     ]
    }
   ],
   "source": [
    "lrf=learn.lr_find()"
   ]
  },
  {
   "cell_type": "code",
   "execution_count": 12,
   "metadata": {},
   "outputs": [
    {
     "data": {
      "image/png": "[encoded data removed]",
      "text/plain": [
       "<matplotlib.figure.Figure at 0x7f60e8908940>"
      ]
     },
     "metadata": {},
     "output_type": "display_data"
    }
   ],
   "source": [
    "learn.sched.plot_lr()"
   ]
  },
  {
   "cell_type": "code",
   "execution_count": 13,
   "metadata": {},
   "outputs": [
    {
     "data": {
      "image/png": "[encoded data removed]",
      "text/plain": [
       "<matplotlib.figure.Figure at 0x7f60e875db38>"
      ]
     },
     "metadata": {},
     "output_type": "display_data"
    }
   ],
   "source": [
    "learn.sched.plot()"
   ]
  },
  {
   "cell_type": "code",
   "execution_count": 14,
   "metadata": {
    "scrolled": true
   },
   "outputs": [
    {
     "data": {
      "application/vnd.jupyter.widget-view+json": {
       "model_id": "3237ee29bdba4ecdb24720091e9e397e",
       "version_major": 2,
       "version_minor": 0
      },
      "text/plain": [
       "A Jupyter Widget"
      ]
     },
     "metadata": {},
     "output_type": "display_data"
    },
    {
     "name": "stdout",
     "output_type": "stream",
     "text": [
      "                                                            \n",
      "                                                            \n",
      "                                                            \n",
      "                                                            \n",
      "                                                            \n",
      "                                                            \n",
      "                                                            \n",
      "                                                            \n",
      "\n",
      "                                                            \n",
      "                                                            \n",
      "                                                            \n",
      "                                                            \n",
      "                                                            \n",
      "                                                            \n",
      "\n",
      "\n",
      "\n"
     ]
    },
    {
     "name": "stderr",
     "output_type": "stream",
     "text": [
      "Exception in thread Thread-4:\n",
      "Traceback (most recent call last):\n",
      "  File \"/home/ubuntu/src/anaconda3/envs/fastai/lib/python3.6/threading.py\", line 916, in _bootstrap_inner\n",
      "    self.run()\n",
      "  File \"/home/ubuntu/src/anaconda3/envs/fastai/lib/python3.6/site-packages/tqdm/_tqdm.py\", line 144, in run\n",
      "    for instance in self.tqdm_cls._instances:\n",
      "  File \"/home/ubuntu/src/anaconda3/envs/fastai/lib/python3.6/_weakrefset.py\", line 60, in __iter__\n",
      "    for itemref in self.data:\n",
      "RuntimeError: Set changed size during iteration\n",
      "\n"
     ]
    },
    {
     "name": "stdout",
     "output_type": "stream",
     "text": [
      "                                                            \r"
     ]
    },
    {
     "name": "stderr",
     "output_type": "stream",
     "text": [
      "Exception in thread Thread-5:\n",
      "Traceback (most recent call last):\n",
      "  File \"/home/ubuntu/src/anaconda3/envs/fastai/lib/python3.6/threading.py\", line 916, in _bootstrap_inner\n",
      "    self.run()\n",
      "  File \"/home/ubuntu/src/anaconda3/envs/fastai/lib/python3.6/site-packages/tqdm/_tqdm.py\", line 144, in run\n",
      "    for instance in self.tqdm_cls._instances:\n",
      "  File \"/home/ubuntu/src/anaconda3/envs/fastai/lib/python3.6/_weakrefset.py\", line 60, in __iter__\n",
      "    for itemref in self.data:\n",
      "RuntimeError: Set changed size during iteration\n",
      "\n"
     ]
    },
    {
     "name": "stdout",
     "output_type": "stream",
     "text": [
      "[ 0.       0.68663  0.35846  0.89438]                        \n",
      "[ 1.       0.47215  0.29612  0.90698]                        \n",
      "\n"
     ]
    }
   ],
   "source": [
    "learn.fit(1e-2,2)"
   ]
  },
  {
   "cell_type": "code",
   "execution_count": 15,
   "metadata": {},
   "outputs": [
    {
     "data": {
      "application/vnd.jupyter.widget-view+json": {
       "model_id": "91f1df13964c43bf819f597cf319292d",
       "version_major": 2,
       "version_minor": 0
      },
      "text/plain": [
       "A Jupyter Widget"
      ]
     },
     "metadata": {},
     "output_type": "display_data"
    },
    {
     "name": "stdout",
     "output_type": "stream",
     "text": [
      "[ 0.       0.33554  0.26781  0.91667]                        \n",
      "[ 1.       0.30483  0.26421  0.91231]                        \n",
      "\n"
     ]
    }
   ],
   "source": [
    "learn.fit(1e-2,2,cycle_len=1)"
   ]
  },
  {
   "cell_type": "code",
   "execution_count": 16,
   "metadata": {},
   "outputs": [
    {
     "data": {
      "application/vnd.jupyter.widget-view+json": {
       "model_id": "ab319d5000054a4ab21a59919ed22526",
       "version_major": 2,
       "version_minor": 0
      },
      "text/plain": [
       "A Jupyter Widget"
      ]
     },
     "metadata": {},
     "output_type": "display_data"
    },
    {
     "name": "stdout",
     "output_type": "stream",
     "text": [
      "[ 0.       0.29444  0.25433  0.91861]                        \n",
      "[ 1.       0.27279  0.25355  0.91812]                        \n",
      "[ 2.       0.27411  0.25649  0.91957]                        \n",
      "\n"
     ]
    }
   ],
   "source": [
    "learn.fit(1e-3,2, cycle_len=1, cycle_mult=2)"
   ]
  },
  {
   "cell_type": "code",
   "execution_count": 19,
   "metadata": {},
   "outputs": [],
   "source": [
    "log_preds, y = learn.TTA(is_test=True)\n",
    "probs = np.exp(log_preds)"
   ]
  },
  {
   "cell_type": "code",
   "execution_count": 22,
   "metadata": {},
   "outputs": [
    {
     "data": {
      "text/plain": [
       "(10357, 120)"
      ]
     },
     "execution_count": 22,
     "metadata": {},
     "output_type": "execute_result"
    }
   ],
   "source": [
    "probs.shape"
   ]
  },
  {
   "cell_type": "code",
   "execution_count": 42,
   "metadata": {},
   "outputs": [],
   "source": [
    "df = pd.DataFrame(probs)\n",
    "df.columns = data.classes"
   ]
  },
  {
   "cell_type": "code",
   "execution_count": 39,
   "metadata": {},
   "outputs": [
    {
     "ename": "AttributeError",
     "evalue": "'ImageClassifierData' object has no attribute 'test_df'",
     "output_type": "error",
     "traceback": [
      "\u001b[0;31m---------------------------------------------------------------------------\u001b[0m",
      "\u001b[0;31mAttributeError\u001b[0m                            Traceback (most recent call last)",
      "\u001b[0;32m<ipython-input-39-7d3b2b593ab7>\u001b[0m in \u001b[0;36m<module>\u001b[0;34m()\u001b[0m\n\u001b[0;32m----> 1\u001b[0;31m \u001b[0mlen\u001b[0m\u001b[0;34m(\u001b[0m\u001b[0mdata\u001b[0m\u001b[0;34m.\u001b[0m\u001b[0mtest_df\u001b[0m\u001b[0;34m.\u001b[0m\u001b[0mfnames\u001b[0m\u001b[0;34m)\u001b[0m\u001b[0;34m\u001b[0m\u001b[0m\n\u001b[0m",
      "\u001b[0;31mAttributeError\u001b[0m: 'ImageClassifierData' object has no attribute 'test_df'"
     ]
    }
   ],
   "source": []
  },
  {
   "cell_type": "code",
   "execution_count": 43,
   "metadata": {},
   "outputs": [],
   "source": [
    "df.insert(0,'id',[o[5:-4] for o in data.test_ds.fnames])"
   ]
  },
  {
   "cell_type": "code",
   "execution_count": 44,
   "metadata": {},
   "outputs": [
    {
     "data": {
      "text/html": [
       "<div>\n",
       "<style scoped>\n",
       "    .dataframe tbody tr th:only-of-type {\n",
       "        vertical-align: middle;\n",
       "    }\n",
       "\n",
       "    .dataframe tbody tr th {\n",
       "        vertical-align: top;\n",
       "    }\n",
       "\n",
       "    .dataframe thead th {\n",
       "        text-align: right;\n",
       "    }\n",
       "</style>\n",
       "<table border=\"1\" class=\"dataframe\">\n",
       "  <thead>\n",
       "    <tr style=\"text-align: right;\">\n",
       "      <th></th>\n",
       "      <th>id</th>\n",
       "      <th>affenpinscher</th>\n",
       "      <th>afghan_hound</th>\n",
       "      <th>african_hunting_dog</th>\n",
       "      <th>airedale</th>\n",
       "      <th>american_staffordshire_terrier</th>\n",
       "      <th>appenzeller</th>\n",
       "      <th>australian_terrier</th>\n",
       "      <th>basenji</th>\n",
       "      <th>basset</th>\n",
       "      <th>...</th>\n",
       "      <th>toy_poodle</th>\n",
       "      <th>toy_terrier</th>\n",
       "      <th>vizsla</th>\n",
       "      <th>walker_hound</th>\n",
       "      <th>weimaraner</th>\n",
       "      <th>welsh_springer_spaniel</th>\n",
       "      <th>west_highland_white_terrier</th>\n",
       "      <th>whippet</th>\n",
       "      <th>wire-haired_fox_terrier</th>\n",
       "      <th>yorkshire_terrier</th>\n",
       "    </tr>\n",
       "  </thead>\n",
       "  <tbody>\n",
       "    <tr>\n",
       "      <th>0</th>\n",
       "      <td>fd1a7be32f10493735555e62913c0841</td>\n",
       "      <td>1.866953e-05</td>\n",
       "      <td>1.172434e-04</td>\n",
       "      <td>8.027469e-06</td>\n",
       "      <td>1.551378e-05</td>\n",
       "      <td>4.539322e-07</td>\n",
       "      <td>1.789163e-06</td>\n",
       "      <td>2.402264e-05</td>\n",
       "      <td>1.704947e-06</td>\n",
       "      <td>2.474162e-06</td>\n",
       "      <td>...</td>\n",
       "      <td>3.627764e-04</td>\n",
       "      <td>4.295414e-06</td>\n",
       "      <td>2.965463e-06</td>\n",
       "      <td>5.529704e-06</td>\n",
       "      <td>9.800078e-06</td>\n",
       "      <td>4.744123e-06</td>\n",
       "      <td>6.097488e-07</td>\n",
       "      <td>2.875952e-06</td>\n",
       "      <td>1.038005e-05</td>\n",
       "      <td>1.132505e-05</td>\n",
       "    </tr>\n",
       "    <tr>\n",
       "      <th>1</th>\n",
       "      <td>5273d42f02b4715cb93845205995ef64</td>\n",
       "      <td>3.631459e-06</td>\n",
       "      <td>1.136757e-05</td>\n",
       "      <td>4.600122e-06</td>\n",
       "      <td>1.164993e-05</td>\n",
       "      <td>2.481622e-06</td>\n",
       "      <td>6.474572e-06</td>\n",
       "      <td>2.362806e-06</td>\n",
       "      <td>1.766405e-06</td>\n",
       "      <td>5.211272e-07</td>\n",
       "      <td>...</td>\n",
       "      <td>1.114785e-07</td>\n",
       "      <td>1.088702e-07</td>\n",
       "      <td>7.370159e-06</td>\n",
       "      <td>8.793728e-06</td>\n",
       "      <td>2.013350e-05</td>\n",
       "      <td>3.015408e-07</td>\n",
       "      <td>3.140917e-06</td>\n",
       "      <td>3.833009e-05</td>\n",
       "      <td>3.296837e-06</td>\n",
       "      <td>9.833093e-07</td>\n",
       "    </tr>\n",
       "    <tr>\n",
       "      <th>2</th>\n",
       "      <td>442057a3142f4d75a1023db363e2fb54</td>\n",
       "      <td>6.844937e-08</td>\n",
       "      <td>3.097025e-07</td>\n",
       "      <td>7.726032e-08</td>\n",
       "      <td>1.954423e-07</td>\n",
       "      <td>7.305477e-08</td>\n",
       "      <td>1.182241e-07</td>\n",
       "      <td>5.723131e-08</td>\n",
       "      <td>6.111197e-09</td>\n",
       "      <td>2.552700e-06</td>\n",
       "      <td>...</td>\n",
       "      <td>2.567239e-08</td>\n",
       "      <td>9.615147e-08</td>\n",
       "      <td>1.613188e-07</td>\n",
       "      <td>6.558738e-06</td>\n",
       "      <td>1.364567e-07</td>\n",
       "      <td>7.807266e-09</td>\n",
       "      <td>4.483566e-09</td>\n",
       "      <td>2.877600e-09</td>\n",
       "      <td>3.260326e-08</td>\n",
       "      <td>9.161845e-08</td>\n",
       "    </tr>\n",
       "    <tr>\n",
       "      <th>3</th>\n",
       "      <td>fb03302b030afd122e0f4936c158f6c1</td>\n",
       "      <td>4.441444e-03</td>\n",
       "      <td>5.007303e-05</td>\n",
       "      <td>1.148002e-04</td>\n",
       "      <td>1.430082e-05</td>\n",
       "      <td>5.916148e-05</td>\n",
       "      <td>1.908966e-05</td>\n",
       "      <td>5.175589e-04</td>\n",
       "      <td>1.975150e-05</td>\n",
       "      <td>6.360030e-05</td>\n",
       "      <td>...</td>\n",
       "      <td>4.892303e-03</td>\n",
       "      <td>1.196980e-03</td>\n",
       "      <td>1.106202e-04</td>\n",
       "      <td>7.184261e-05</td>\n",
       "      <td>1.034820e-04</td>\n",
       "      <td>1.355435e-05</td>\n",
       "      <td>7.337201e-05</td>\n",
       "      <td>5.080494e-05</td>\n",
       "      <td>1.734113e-04</td>\n",
       "      <td>6.122844e-02</td>\n",
       "    </tr>\n",
       "    <tr>\n",
       "      <th>4</th>\n",
       "      <td>511ca6e3539192aa5c8747bb697e0525</td>\n",
       "      <td>4.479596e-07</td>\n",
       "      <td>8.069000e-08</td>\n",
       "      <td>1.060179e-06</td>\n",
       "      <td>4.291417e-08</td>\n",
       "      <td>2.903828e-07</td>\n",
       "      <td>2.989522e-08</td>\n",
       "      <td>3.628082e-07</td>\n",
       "      <td>1.494350e-08</td>\n",
       "      <td>8.933925e-07</td>\n",
       "      <td>...</td>\n",
       "      <td>1.326296e-04</td>\n",
       "      <td>4.719619e-06</td>\n",
       "      <td>1.408499e-07</td>\n",
       "      <td>2.863486e-08</td>\n",
       "      <td>6.439770e-07</td>\n",
       "      <td>1.152334e-06</td>\n",
       "      <td>2.277584e-06</td>\n",
       "      <td>3.538300e-07</td>\n",
       "      <td>2.998717e-06</td>\n",
       "      <td>2.785338e-06</td>\n",
       "    </tr>\n",
       "  </tbody>\n",
       "</table>\n",
       "<p>5 rows × 121 columns</p>\n",
       "</div>"
      ],
      "text/plain": [
       "                                 id  affenpinscher  afghan_hound  \\\n",
       "0  fd1a7be32f10493735555e62913c0841   1.866953e-05  1.172434e-04   \n",
       "1  5273d42f02b4715cb93845205995ef64   3.631459e-06  1.136757e-05   \n",
       "2  442057a3142f4d75a1023db363e2fb54   6.844937e-08  3.097025e-07   \n",
       "3  fb03302b030afd122e0f4936c158f6c1   4.441444e-03  5.007303e-05   \n",
       "4  511ca6e3539192aa5c8747bb697e0525   4.479596e-07  8.069000e-08   \n",
       "\n",
       "   african_hunting_dog      airedale  american_staffordshire_terrier  \\\n",
       "0         8.027469e-06  1.551378e-05                    4.539322e-07   \n",
       "1         4.600122e-06  1.164993e-05                    2.481622e-06   \n",
       "2         7.726032e-08  1.954423e-07                    7.305477e-08   \n",
       "3         1.148002e-04  1.430082e-05                    5.916148e-05   \n",
       "4         1.060179e-06  4.291417e-08                    2.903828e-07   \n",
       "\n",
       "    appenzeller  australian_terrier       basenji        basset  \\\n",
       "0  1.789163e-06        2.402264e-05  1.704947e-06  2.474162e-06   \n",
       "1  6.474572e-06        2.362806e-06  1.766405e-06  5.211272e-07   \n",
       "2  1.182241e-07        5.723131e-08  6.111197e-09  2.552700e-06   \n",
       "3  1.908966e-05        5.175589e-04  1.975150e-05  6.360030e-05   \n",
       "4  2.989522e-08        3.628082e-07  1.494350e-08  8.933925e-07   \n",
       "\n",
       "         ...            toy_poodle   toy_terrier        vizsla  walker_hound  \\\n",
       "0        ...          3.627764e-04  4.295414e-06  2.965463e-06  5.529704e-06   \n",
       "1        ...          1.114785e-07  1.088702e-07  7.370159e-06  8.793728e-06   \n",
       "2        ...          2.567239e-08  9.615147e-08  1.613188e-07  6.558738e-06   \n",
       "3        ...          4.892303e-03  1.196980e-03  1.106202e-04  7.184261e-05   \n",
       "4        ...          1.326296e-04  4.719619e-06  1.408499e-07  2.863486e-08   \n",
       "\n",
       "     weimaraner  welsh_springer_spaniel  west_highland_white_terrier  \\\n",
       "0  9.800078e-06            4.744123e-06                 6.097488e-07   \n",
       "1  2.013350e-05            3.015408e-07                 3.140917e-06   \n",
       "2  1.364567e-07            7.807266e-09                 4.483566e-09   \n",
       "3  1.034820e-04            1.355435e-05                 7.337201e-05   \n",
       "4  6.439770e-07            1.152334e-06                 2.277584e-06   \n",
       "\n",
       "        whippet  wire-haired_fox_terrier  yorkshire_terrier  \n",
       "0  2.875952e-06             1.038005e-05       1.132505e-05  \n",
       "1  3.833009e-05             3.296837e-06       9.833093e-07  \n",
       "2  2.877600e-09             3.260326e-08       9.161845e-08  \n",
       "3  5.080494e-05             1.734113e-04       6.122844e-02  \n",
       "4  3.538300e-07             2.998717e-06       2.785338e-06  \n",
       "\n",
       "[5 rows x 121 columns]"
      ]
     },
     "execution_count": 44,
     "metadata": {},
     "output_type": "execute_result"
    }
   ],
   "source": [
    "df.head()"
   ]
  },
  {
   "cell_type": "code",
   "execution_count": 45,
   "metadata": {},
   "outputs": [],
   "source": [
    "SUBM = f'{PATH}subm/'"
   ]
  },
  {
   "cell_type": "code",
   "execution_count": 46,
   "metadata": {},
   "outputs": [],
   "source": [
    "os.makedirs(SUBM,exist_ok=True)"
   ]
  },
  {
   "cell_type": "code",
   "execution_count": 48,
   "metadata": {},
   "outputs": [],
   "source": [
    "df.to_csv(f'{SUBM}subm.gz',compression='gzip',index=False)"
   ]
  },
  {
   "cell_type": "code",
   "execution_count": 49,
   "metadata": {},
   "outputs": [
    {
     "data": {
      "text/html": [
       "<a href='data/dogbreed/subm/subm.gz' target='_blank'>data/dogbreed/subm/subm.gz</a><br>"
      ],
      "text/plain": [
       "/home/ubuntu/fastai/xrwang/data/dogbreed/subm/subm.gz"
      ]
     },
     "execution_count": 49,
     "metadata": {},
     "output_type": "execute_result"
    }
   ],
   "source": [
    "FileLink(f'{SUBM}subm.gz')"
   ]
  }
 ],
 "metadata": {
  "kernelspec": {
   "display_name": "Python 3",
   "language": "python",
   "name": "python3"
  },
  "language_info": {
   "codemirror_mode": {
    "name": "ipython",
    "version": 3
   },
   "file_extension": ".py",
   "mimetype": "text/x-python",
   "name": "python",
   "nbconvert_exporter": "python",
   "pygments_lexer": "ipython3",
   "version": "3.6.3"
  }
 },
 "nbformat": 4,
 "nbformat_minor": 2
}
